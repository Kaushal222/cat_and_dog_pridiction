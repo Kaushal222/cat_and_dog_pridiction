{
 "cells": [
  {
   "cell_type": "code",
   "execution_count": 1,
   "id": "c57ca9cd",
   "metadata": {},
   "outputs": [],
   "source": [
    "from tensorflow.keras.models import load_model\n",
    "import cv2"
   ]
  },
  {
   "cell_type": "code",
   "execution_count": 2,
   "id": "662d6bab",
   "metadata": {},
   "outputs": [],
   "source": [
    "model = load_model('../Cat_dog/cnn_ct_dog_model.h5')"
   ]
  },
  {
   "cell_type": "code",
   "execution_count": 3,
   "id": "bd00ee98",
   "metadata": {},
   "outputs": [],
   "source": [
    "def predict_img(path):\n",
    "    img = cv2.imread(path)\n",
    "    img = cv2.resize(img,(224,224))/255\n",
    "    yp = model.predict_on_batch(img.reshape(1,224,224,3)).argmax()\n",
    "    return 'cat' if yp==0 else 'dog'"
   ]
  },
  {
   "cell_type": "code",
   "execution_count": 4,
   "id": "f96d4ec3",
   "metadata": {},
   "outputs": [
    {
     "data": {
      "text/plain": [
       "'dog'"
      ]
     },
     "execution_count": 4,
     "metadata": {},
     "output_type": "execute_result"
    }
   ],
   "source": [
    "predict_img('../Cat_dog/dataset/a.jpg')"
   ]
  },
  {
   "cell_type": "code",
   "execution_count": 5,
   "id": "3e9b1acb",
   "metadata": {},
   "outputs": [
    {
     "data": {
      "text/plain": [
       "'cat'"
      ]
     },
     "execution_count": 5,
     "metadata": {},
     "output_type": "execute_result"
    }
   ],
   "source": [
    "predict_img('../Cat_dog/dataset/c.jpg')"
   ]
  },
  {
   "cell_type": "code",
   "execution_count": 6,
   "id": "95faadb3",
   "metadata": {},
   "outputs": [
    {
     "data": {
      "text/plain": [
       "'dog'"
      ]
     },
     "execution_count": 6,
     "metadata": {},
     "output_type": "execute_result"
    }
   ],
   "source": [
    "predict_img('../Cat_dog/dataset/b.jpg')"
   ]
  },
  {
   "cell_type": "code",
   "execution_count": 7,
   "id": "64ddfaea",
   "metadata": {},
   "outputs": [
    {
     "data": {
      "text/plain": [
       "'dog'"
      ]
     },
     "execution_count": 7,
     "metadata": {},
     "output_type": "execute_result"
    }
   ],
   "source": [
    "predict_img('../Cat_dog/dataset/g.jpg')"
   ]
  },
  {
   "cell_type": "code",
   "execution_count": 8,
   "id": "ed28fef1",
   "metadata": {},
   "outputs": [
    {
     "data": {
      "text/plain": [
       "'cat'"
      ]
     },
     "execution_count": 8,
     "metadata": {},
     "output_type": "execute_result"
    }
   ],
   "source": [
    "predict_img('../Cat_dog/dataset/d.jpg')"
   ]
  },
  {
   "cell_type": "code",
   "execution_count": 9,
   "id": "73506aa1",
   "metadata": {},
   "outputs": [
    {
     "data": {
      "text/plain": [
       "'dog'"
      ]
     },
     "execution_count": 9,
     "metadata": {},
     "output_type": "execute_result"
    }
   ],
   "source": [
    "predict_img('../Cat_dog/dataset/e.jpg')"
   ]
  },
  {
   "cell_type": "code",
   "execution_count": 10,
   "id": "3cbf7a7a",
   "metadata": {},
   "outputs": [
    {
     "data": {
      "text/plain": [
       "'dog'"
      ]
     },
     "execution_count": 10,
     "metadata": {},
     "output_type": "execute_result"
    }
   ],
   "source": [
    "predict_img('../Cat_dog/dataset/h.jpg')"
   ]
  },
  {
   "cell_type": "code",
   "execution_count": null,
   "id": "29911591",
   "metadata": {},
   "outputs": [],
   "source": []
  }
 ],
 "metadata": {
  "kernelspec": {
   "display_name": "Python 3 (ipykernel)",
   "language": "python",
   "name": "python3"
  },
  "language_info": {
   "codemirror_mode": {
    "name": "ipython",
    "version": 3
   },
   "file_extension": ".py",
   "mimetype": "text/x-python",
   "name": "python",
   "nbconvert_exporter": "python",
   "pygments_lexer": "ipython3",
   "version": "3.9.15"
  }
 },
 "nbformat": 4,
 "nbformat_minor": 5
}
